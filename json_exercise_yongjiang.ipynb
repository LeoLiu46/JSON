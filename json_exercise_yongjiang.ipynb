{
 "cells": [
  {
   "cell_type": "markdown",
   "metadata": {},
   "source": [
    "****\n",
    "## JSON exercise\n",
    "\n",
    "Using data in file 'data/world_bank_projects.json' and the techniques demonstrated above,\n",
    "1. Find the 10 countries with most projects\n",
    "2. Find the top 10 major project themes (using column 'mjtheme_namecode')\n",
    "3. In 2. above you will notice that some entries have only the code and the name is missing. Create a dataframe with the missing names filled in."
   ]
  },
  {
   "cell_type": "code",
   "execution_count": 61,
   "metadata": {
    "collapsed": true
   },
   "outputs": [],
   "source": [
    "# import packages for json file loading and processing\n",
    "import json\n",
    "import pandas as pd\n",
    "from pandas.io.json import json_normalize\n",
    "\n",
    "#dispaly all columns in world_bank_projects json file\n",
    "pd.set_option('display.max_columns', 500)"
   ]
  },
  {
   "cell_type": "markdown",
   "metadata": {},
   "source": [
    "### Question 1: Find the 10 countries with most projects"
   ]
  },
  {
   "cell_type": "code",
   "execution_count": 42,
   "metadata": {},
   "outputs": [
    {
     "data": {
      "text/html": [
       "<div>\n",
       "<style>\n",
       "    .dataframe thead tr:only-child th {\n",
       "        text-align: right;\n",
       "    }\n",
       "\n",
       "    .dataframe thead th {\n",
       "        text-align: left;\n",
       "    }\n",
       "\n",
       "    .dataframe tbody tr th {\n",
       "        vertical-align: top;\n",
       "    }\n",
       "</style>\n",
       "<table border=\"1\" class=\"dataframe\">\n",
       "  <thead>\n",
       "    <tr style=\"text-align: right;\">\n",
       "      <th></th>\n",
       "      <th>_id</th>\n",
       "      <th>approvalfy</th>\n",
       "      <th>board_approval_month</th>\n",
       "      <th>boardapprovaldate</th>\n",
       "      <th>borrower</th>\n",
       "      <th>closingdate</th>\n",
       "      <th>country_namecode</th>\n",
       "      <th>countrycode</th>\n",
       "      <th>countryname</th>\n",
       "      <th>countryshortname</th>\n",
       "      <th>docty</th>\n",
       "      <th>envassesmentcategorycode</th>\n",
       "      <th>grantamt</th>\n",
       "      <th>ibrdcommamt</th>\n",
       "      <th>id</th>\n",
       "      <th>idacommamt</th>\n",
       "      <th>impagency</th>\n",
       "      <th>lendinginstr</th>\n",
       "      <th>lendinginstrtype</th>\n",
       "      <th>lendprojectcost</th>\n",
       "      <th>majorsector_percent</th>\n",
       "      <th>mjsector_namecode</th>\n",
       "      <th>mjtheme</th>\n",
       "      <th>mjtheme_namecode</th>\n",
       "      <th>mjthemecode</th>\n",
       "      <th>prodline</th>\n",
       "      <th>prodlinetext</th>\n",
       "      <th>productlinetype</th>\n",
       "      <th>project_abstract</th>\n",
       "      <th>project_name</th>\n",
       "      <th>projectdocs</th>\n",
       "      <th>projectfinancialtype</th>\n",
       "      <th>projectstatusdisplay</th>\n",
       "      <th>regionname</th>\n",
       "      <th>sector</th>\n",
       "      <th>sector1</th>\n",
       "      <th>sector2</th>\n",
       "      <th>sector3</th>\n",
       "      <th>sector4</th>\n",
       "      <th>sector_namecode</th>\n",
       "      <th>sectorcode</th>\n",
       "      <th>source</th>\n",
       "      <th>status</th>\n",
       "      <th>supplementprojectflg</th>\n",
       "      <th>theme1</th>\n",
       "      <th>theme_namecode</th>\n",
       "      <th>themecode</th>\n",
       "      <th>totalamt</th>\n",
       "      <th>totalcommamt</th>\n",
       "      <th>url</th>\n",
       "    </tr>\n",
       "  </thead>\n",
       "  <tbody>\n",
       "    <tr>\n",
       "      <th>0</th>\n",
       "      <td>{'$oid': '52b213b38594d8a2be17c780'}</td>\n",
       "      <td>1999</td>\n",
       "      <td>November</td>\n",
       "      <td>2013-11-12T00:00:00Z</td>\n",
       "      <td>FEDERAL DEMOCRATIC REPUBLIC OF ETHIOPIA</td>\n",
       "      <td>2018-07-07T00:00:00Z</td>\n",
       "      <td>Federal Democratic Republic of Ethiopia!$!ET</td>\n",
       "      <td>ET</td>\n",
       "      <td>Federal Democratic Republic of Ethiopia</td>\n",
       "      <td>Ethiopia</td>\n",
       "      <td>Project Information Document,Indigenous People...</td>\n",
       "      <td>C</td>\n",
       "      <td>0</td>\n",
       "      <td>0</td>\n",
       "      <td>P129828</td>\n",
       "      <td>130000000</td>\n",
       "      <td>MINISTRY OF EDUCATION</td>\n",
       "      <td>Investment Project Financing</td>\n",
       "      <td>IN</td>\n",
       "      <td>550000000</td>\n",
       "      <td>[{'Percent': 46, 'Name': 'Education'}, {'Perce...</td>\n",
       "      <td>[{'code': 'EX', 'name': 'Education'}, {'code':...</td>\n",
       "      <td>[Human development]</td>\n",
       "      <td>[{'code': '8', 'name': 'Human development'}, {...</td>\n",
       "      <td>8,11</td>\n",
       "      <td>PE</td>\n",
       "      <td>IBRD/IDA</td>\n",
       "      <td>L</td>\n",
       "      <td>{'cdata': 'The development objective of the Se...</td>\n",
       "      <td>Ethiopia General Education Quality Improvement...</td>\n",
       "      <td>[{'DocDate': '28-AUG-2013', 'EntityID': '09022...</td>\n",
       "      <td>IDA</td>\n",
       "      <td>Active</td>\n",
       "      <td>Africa</td>\n",
       "      <td>[{'Name': 'Primary education'}, {'Name': 'Seco...</td>\n",
       "      <td>{'Percent': 46, 'Name': 'Primary education'}</td>\n",
       "      <td>{'Percent': 26, 'Name': 'Secondary education'}</td>\n",
       "      <td>{'Percent': 16, 'Name': 'Public administration...</td>\n",
       "      <td>{'Percent': 12, 'Name': 'Tertiary education'}</td>\n",
       "      <td>[{'code': 'EP', 'name': 'Primary education'}, ...</td>\n",
       "      <td>ET,BS,ES,EP</td>\n",
       "      <td>IBRD</td>\n",
       "      <td>Active</td>\n",
       "      <td>N</td>\n",
       "      <td>{'Percent': 100, 'Name': 'Education for all'}</td>\n",
       "      <td>[{'code': '65', 'name': 'Education for all'}]</td>\n",
       "      <td>65</td>\n",
       "      <td>130000000</td>\n",
       "      <td>130000000</td>\n",
       "      <td>http://www.worldbank.org/projects/P129828/ethi...</td>\n",
       "    </tr>\n",
       "    <tr>\n",
       "      <th>1</th>\n",
       "      <td>{'$oid': '52b213b38594d8a2be17c781'}</td>\n",
       "      <td>2015</td>\n",
       "      <td>November</td>\n",
       "      <td>2013-11-04T00:00:00Z</td>\n",
       "      <td>GOVERNMENT OF TUNISIA</td>\n",
       "      <td>NaN</td>\n",
       "      <td>Republic of Tunisia!$!TN</td>\n",
       "      <td>TN</td>\n",
       "      <td>Republic of Tunisia</td>\n",
       "      <td>Tunisia</td>\n",
       "      <td>Project Information Document,Integrated Safegu...</td>\n",
       "      <td>C</td>\n",
       "      <td>4700000</td>\n",
       "      <td>0</td>\n",
       "      <td>P144674</td>\n",
       "      <td>0</td>\n",
       "      <td>MINISTRY OF FINANCE</td>\n",
       "      <td>Specific Investment Loan</td>\n",
       "      <td>IN</td>\n",
       "      <td>5700000</td>\n",
       "      <td>[{'Percent': 70, 'Name': 'Public Administratio...</td>\n",
       "      <td>[{'code': 'BX', 'name': 'Public Administration...</td>\n",
       "      <td>[Economic management, Social protection and ri...</td>\n",
       "      <td>[{'code': '1', 'name': 'Economic management'},...</td>\n",
       "      <td>1,6</td>\n",
       "      <td>RE</td>\n",
       "      <td>Recipient Executed Activities</td>\n",
       "      <td>L</td>\n",
       "      <td>NaN</td>\n",
       "      <td>TN: DTF Social Protection Reforms Support</td>\n",
       "      <td>[{'DocDate': '29-MAR-2013', 'EntityID': '00033...</td>\n",
       "      <td>OTHER</td>\n",
       "      <td>Active</td>\n",
       "      <td>Middle East and North Africa</td>\n",
       "      <td>[{'Name': 'Public administration- Other social...</td>\n",
       "      <td>{'Percent': 70, 'Name': 'Public administration...</td>\n",
       "      <td>{'Percent': 30, 'Name': 'General public admini...</td>\n",
       "      <td>NaN</td>\n",
       "      <td>NaN</td>\n",
       "      <td>[{'code': 'BS', 'name': 'Public administration...</td>\n",
       "      <td>BZ,BS</td>\n",
       "      <td>IBRD</td>\n",
       "      <td>Active</td>\n",
       "      <td>N</td>\n",
       "      <td>{'Percent': 30, 'Name': 'Other economic manage...</td>\n",
       "      <td>[{'code': '24', 'name': 'Other economic manage...</td>\n",
       "      <td>54,24</td>\n",
       "      <td>0</td>\n",
       "      <td>4700000</td>\n",
       "      <td>http://www.worldbank.org/projects/P144674?lang=en</td>\n",
       "    </tr>\n",
       "    <tr>\n",
       "      <th>2</th>\n",
       "      <td>{'$oid': '52b213b38594d8a2be17c782'}</td>\n",
       "      <td>2014</td>\n",
       "      <td>November</td>\n",
       "      <td>2013-11-01T00:00:00Z</td>\n",
       "      <td>MINISTRY OF FINANCE AND ECONOMIC DEVEL</td>\n",
       "      <td>NaN</td>\n",
       "      <td>Tuvalu!$!TV</td>\n",
       "      <td>TV</td>\n",
       "      <td>Tuvalu</td>\n",
       "      <td>Tuvalu</td>\n",
       "      <td>Resettlement Plan,Environmental Assessment,Int...</td>\n",
       "      <td>B</td>\n",
       "      <td>0</td>\n",
       "      <td>0</td>\n",
       "      <td>P145310</td>\n",
       "      <td>6060000</td>\n",
       "      <td>MINISTRY OF TRANSPORT AND COMMUNICATIONS</td>\n",
       "      <td>Investment Project Financing</td>\n",
       "      <td>IN</td>\n",
       "      <td>6060000</td>\n",
       "      <td>[{'Percent': 100, 'Name': 'Transportation'}]</td>\n",
       "      <td>[{'code': 'TX', 'name': 'Transportation'}]</td>\n",
       "      <td>[Trade and integration, Public sector governan...</td>\n",
       "      <td>[{'code': '5', 'name': 'Trade and integration'...</td>\n",
       "      <td>5,2,11,6</td>\n",
       "      <td>PE</td>\n",
       "      <td>IBRD/IDA</td>\n",
       "      <td>L</td>\n",
       "      <td>NaN</td>\n",
       "      <td>Tuvalu Aviation Investment Project - Additiona...</td>\n",
       "      <td>[{'DocDate': '21-OCT-2013', 'EntityID': '00033...</td>\n",
       "      <td>IDA</td>\n",
       "      <td>Active</td>\n",
       "      <td>East Asia and Pacific</td>\n",
       "      <td>[{'Name': 'Rural and Inter-Urban Roads and Hig...</td>\n",
       "      <td>{'Percent': 100, 'Name': 'Rural and Inter-Urba...</td>\n",
       "      <td>NaN</td>\n",
       "      <td>NaN</td>\n",
       "      <td>NaN</td>\n",
       "      <td>[{'code': 'TI', 'name': 'Rural and Inter-Urban...</td>\n",
       "      <td>TI</td>\n",
       "      <td>IBRD</td>\n",
       "      <td>Active</td>\n",
       "      <td>Y</td>\n",
       "      <td>{'Percent': 46, 'Name': 'Regional integration'}</td>\n",
       "      <td>[{'code': '47', 'name': 'Regional integration'...</td>\n",
       "      <td>52,81,25,47</td>\n",
       "      <td>6060000</td>\n",
       "      <td>6060000</td>\n",
       "      <td>http://www.worldbank.org/projects/P145310?lang=en</td>\n",
       "    </tr>\n",
       "  </tbody>\n",
       "</table>\n",
       "</div>"
      ],
      "text/plain": [
       "                                    _id  approvalfy board_approval_month  \\\n",
       "0  {'$oid': '52b213b38594d8a2be17c780'}        1999             November   \n",
       "1  {'$oid': '52b213b38594d8a2be17c781'}        2015             November   \n",
       "2  {'$oid': '52b213b38594d8a2be17c782'}        2014             November   \n",
       "\n",
       "      boardapprovaldate                                 borrower  \\\n",
       "0  2013-11-12T00:00:00Z  FEDERAL DEMOCRATIC REPUBLIC OF ETHIOPIA   \n",
       "1  2013-11-04T00:00:00Z                    GOVERNMENT OF TUNISIA   \n",
       "2  2013-11-01T00:00:00Z   MINISTRY OF FINANCE AND ECONOMIC DEVEL   \n",
       "\n",
       "            closingdate                              country_namecode  \\\n",
       "0  2018-07-07T00:00:00Z  Federal Democratic Republic of Ethiopia!$!ET   \n",
       "1                   NaN                      Republic of Tunisia!$!TN   \n",
       "2                   NaN                                   Tuvalu!$!TV   \n",
       "\n",
       "  countrycode                              countryname countryshortname  \\\n",
       "0          ET  Federal Democratic Republic of Ethiopia         Ethiopia   \n",
       "1          TN                      Republic of Tunisia          Tunisia   \n",
       "2          TV                                   Tuvalu           Tuvalu   \n",
       "\n",
       "                                               docty envassesmentcategorycode  \\\n",
       "0  Project Information Document,Indigenous People...                        C   \n",
       "1  Project Information Document,Integrated Safegu...                        C   \n",
       "2  Resettlement Plan,Environmental Assessment,Int...                        B   \n",
       "\n",
       "   grantamt  ibrdcommamt       id  idacommamt  \\\n",
       "0         0            0  P129828   130000000   \n",
       "1   4700000            0  P144674           0   \n",
       "2         0            0  P145310     6060000   \n",
       "\n",
       "                                  impagency                  lendinginstr  \\\n",
       "0                     MINISTRY OF EDUCATION  Investment Project Financing   \n",
       "1                       MINISTRY OF FINANCE      Specific Investment Loan   \n",
       "2  MINISTRY OF TRANSPORT AND COMMUNICATIONS  Investment Project Financing   \n",
       "\n",
       "  lendinginstrtype  lendprojectcost  \\\n",
       "0               IN        550000000   \n",
       "1               IN          5700000   \n",
       "2               IN          6060000   \n",
       "\n",
       "                                 majorsector_percent  \\\n",
       "0  [{'Percent': 46, 'Name': 'Education'}, {'Perce...   \n",
       "1  [{'Percent': 70, 'Name': 'Public Administratio...   \n",
       "2       [{'Percent': 100, 'Name': 'Transportation'}]   \n",
       "\n",
       "                                   mjsector_namecode  \\\n",
       "0  [{'code': 'EX', 'name': 'Education'}, {'code':...   \n",
       "1  [{'code': 'BX', 'name': 'Public Administration...   \n",
       "2         [{'code': 'TX', 'name': 'Transportation'}]   \n",
       "\n",
       "                                             mjtheme  \\\n",
       "0                                [Human development]   \n",
       "1  [Economic management, Social protection and ri...   \n",
       "2  [Trade and integration, Public sector governan...   \n",
       "\n",
       "                                    mjtheme_namecode mjthemecode prodline  \\\n",
       "0  [{'code': '8', 'name': 'Human development'}, {...        8,11       PE   \n",
       "1  [{'code': '1', 'name': 'Economic management'},...         1,6       RE   \n",
       "2  [{'code': '5', 'name': 'Trade and integration'...    5,2,11,6       PE   \n",
       "\n",
       "                    prodlinetext productlinetype  \\\n",
       "0                       IBRD/IDA               L   \n",
       "1  Recipient Executed Activities               L   \n",
       "2                       IBRD/IDA               L   \n",
       "\n",
       "                                    project_abstract  \\\n",
       "0  {'cdata': 'The development objective of the Se...   \n",
       "1                                                NaN   \n",
       "2                                                NaN   \n",
       "\n",
       "                                        project_name  \\\n",
       "0  Ethiopia General Education Quality Improvement...   \n",
       "1          TN: DTF Social Protection Reforms Support   \n",
       "2  Tuvalu Aviation Investment Project - Additiona...   \n",
       "\n",
       "                                         projectdocs projectfinancialtype  \\\n",
       "0  [{'DocDate': '28-AUG-2013', 'EntityID': '09022...                  IDA   \n",
       "1  [{'DocDate': '29-MAR-2013', 'EntityID': '00033...                OTHER   \n",
       "2  [{'DocDate': '21-OCT-2013', 'EntityID': '00033...                  IDA   \n",
       "\n",
       "  projectstatusdisplay                    regionname  \\\n",
       "0               Active                        Africa   \n",
       "1               Active  Middle East and North Africa   \n",
       "2               Active         East Asia and Pacific   \n",
       "\n",
       "                                              sector  \\\n",
       "0  [{'Name': 'Primary education'}, {'Name': 'Seco...   \n",
       "1  [{'Name': 'Public administration- Other social...   \n",
       "2  [{'Name': 'Rural and Inter-Urban Roads and Hig...   \n",
       "\n",
       "                                             sector1  \\\n",
       "0       {'Percent': 46, 'Name': 'Primary education'}   \n",
       "1  {'Percent': 70, 'Name': 'Public administration...   \n",
       "2  {'Percent': 100, 'Name': 'Rural and Inter-Urba...   \n",
       "\n",
       "                                             sector2  \\\n",
       "0     {'Percent': 26, 'Name': 'Secondary education'}   \n",
       "1  {'Percent': 30, 'Name': 'General public admini...   \n",
       "2                                                NaN   \n",
       "\n",
       "                                             sector3  \\\n",
       "0  {'Percent': 16, 'Name': 'Public administration...   \n",
       "1                                                NaN   \n",
       "2                                                NaN   \n",
       "\n",
       "                                         sector4  \\\n",
       "0  {'Percent': 12, 'Name': 'Tertiary education'}   \n",
       "1                                            NaN   \n",
       "2                                            NaN   \n",
       "\n",
       "                                     sector_namecode   sectorcode source  \\\n",
       "0  [{'code': 'EP', 'name': 'Primary education'}, ...  ET,BS,ES,EP   IBRD   \n",
       "1  [{'code': 'BS', 'name': 'Public administration...        BZ,BS   IBRD   \n",
       "2  [{'code': 'TI', 'name': 'Rural and Inter-Urban...           TI   IBRD   \n",
       "\n",
       "   status supplementprojectflg  \\\n",
       "0  Active                    N   \n",
       "1  Active                    N   \n",
       "2  Active                    Y   \n",
       "\n",
       "                                              theme1  \\\n",
       "0      {'Percent': 100, 'Name': 'Education for all'}   \n",
       "1  {'Percent': 30, 'Name': 'Other economic manage...   \n",
       "2    {'Percent': 46, 'Name': 'Regional integration'}   \n",
       "\n",
       "                                      theme_namecode    themecode   totalamt  \\\n",
       "0      [{'code': '65', 'name': 'Education for all'}]           65  130000000   \n",
       "1  [{'code': '24', 'name': 'Other economic manage...        54,24          0   \n",
       "2  [{'code': '47', 'name': 'Regional integration'...  52,81,25,47    6060000   \n",
       "\n",
       "   totalcommamt                                                url  \n",
       "0     130000000  http://www.worldbank.org/projects/P129828/ethi...  \n",
       "1       4700000  http://www.worldbank.org/projects/P144674?lang=en  \n",
       "2       6060000  http://www.worldbank.org/projects/P145310?lang=en  "
      ]
     },
     "execution_count": 42,
     "metadata": {},
     "output_type": "execute_result"
    }
   ],
   "source": [
    "# load world_bank_projects.json as pandas dataframe\n",
    "wb_data = pd.read_json('C:/Users/46126/JupyterProject/data_wrangling_json/data_wrangling_json/data/world_bank_projects.json')\n",
    "\n",
    "# display first 3 rows of wb_data dataframe\n",
    "wb_data.head(3)"
   ]
  },
  {
   "cell_type": "code",
   "execution_count": 37,
   "metadata": {},
   "outputs": [
    {
     "name": "stdout",
     "output_type": "stream",
     "text": [
      "0\n",
      "0\n"
     ]
    },
    {
     "data": {
      "text/plain": [
       "False"
      ]
     },
     "execution_count": 37,
     "metadata": {},
     "output_type": "execute_result"
    }
   ],
   "source": [
    "# make sure that there are countries that have more than one projects\n",
    "print(wb_data.project_name.isnull().sum())\n",
    "print(wb_data.countryname.isnull().sum())\n",
    "len(wb_data.project_name.unique()) == len(wb_data.countryname.unique())"
   ]
  },
  {
   "cell_type": "code",
   "execution_count": 44,
   "metadata": {
    "scrolled": false
   },
   "outputs": [
    {
     "data": {
      "text/plain": [
       "Republic of Indonesia              19\n",
       "People's Republic of China         19\n",
       "Socialist Republic of Vietnam      17\n",
       "Republic of India                  16\n",
       "Republic of Yemen                  13\n",
       "Kingdom of Morocco                 12\n",
       "Nepal                              12\n",
       "People's Republic of Bangladesh    12\n",
       "Republic of Mozambique             11\n",
       "Africa                             11\n",
       "Burkina Faso                        9\n",
       "Name: countryname, dtype: int64"
      ]
     },
     "execution_count": 44,
     "metadata": {},
     "output_type": "execute_result"
    }
   ],
   "source": [
    "# find the 10 countries with most projects\n",
    "pd.value_counts(wb_data.countryname, sort = True).head(11)"
   ]
  },
  {
   "cell_type": "markdown",
   "metadata": {},
   "source": [
    "The 10 countries with most projects are: 'Republic of Indonesia', \"People's Republic of China\",  'Socialist Republic of Vietnam', 'Republic of India', 'Republic of Yemen', 'Kingdom of Morocco', 'Nepal', \"People's Republic of Bangladesh\", 'Republic of Mozambique', and 'Africa'\n",
    "\n",
    "PS: not sure Africa here stands for a country or a continent because of lacking of metadata"
   ]
  },
  {
   "cell_type": "markdown",
   "metadata": {},
   "source": [
    "### Question 2&3: Find the top 10 major project themes"
   ]
  },
  {
   "cell_type": "code",
   "execution_count": 67,
   "metadata": {
    "collapsed": true
   },
   "outputs": [],
   "source": [
    "# load world_bank_projects.json as string\n",
    "wb_json = json.load((open('C:/Users/46126/JupyterProject/data_wrangling_json/data_wrangling_json/data/world_bank_projects.json')))\n",
    "\n",
    "# use normalization to create tables from nested element\n",
    "wb_theme = json_normalize(wb_json, 'mjtheme_namecode')"
   ]
  },
  {
   "cell_type": "code",
   "execution_count": 80,
   "metadata": {},
   "outputs": [
    {
     "data": {
      "text/html": [
       "<div>\n",
       "<style>\n",
       "    .dataframe thead tr:only-child th {\n",
       "        text-align: right;\n",
       "    }\n",
       "\n",
       "    .dataframe thead th {\n",
       "        text-align: left;\n",
       "    }\n",
       "\n",
       "    .dataframe tbody tr th {\n",
       "        vertical-align: top;\n",
       "    }\n",
       "</style>\n",
       "<table border=\"1\" class=\"dataframe\">\n",
       "  <thead>\n",
       "    <tr style=\"text-align: right;\">\n",
       "      <th></th>\n",
       "      <th>code</th>\n",
       "      <th>name</th>\n",
       "    </tr>\n",
       "  </thead>\n",
       "  <tbody>\n",
       "    <tr>\n",
       "      <th>0</th>\n",
       "      <td>8</td>\n",
       "      <td>Human development</td>\n",
       "    </tr>\n",
       "    <tr>\n",
       "      <th>1</th>\n",
       "      <td>11</td>\n",
       "      <td></td>\n",
       "    </tr>\n",
       "    <tr>\n",
       "      <th>2</th>\n",
       "      <td>1</td>\n",
       "      <td>Economic management</td>\n",
       "    </tr>\n",
       "    <tr>\n",
       "      <th>3</th>\n",
       "      <td>6</td>\n",
       "      <td>Social protection and risk management</td>\n",
       "    </tr>\n",
       "    <tr>\n",
       "      <th>4</th>\n",
       "      <td>5</td>\n",
       "      <td>Trade and integration</td>\n",
       "    </tr>\n",
       "  </tbody>\n",
       "</table>\n",
       "</div>"
      ],
      "text/plain": [
       "  code                                   name\n",
       "0    8                      Human development\n",
       "1   11                                       \n",
       "2    1                    Economic management\n",
       "3    6  Social protection and risk management\n",
       "4    5                  Trade and integration"
      ]
     },
     "execution_count": 80,
     "metadata": {},
     "output_type": "execute_result"
    }
   ],
   "source": [
    "# display first 5 rows of wb_theme dataframe\n",
    "wb_theme.head()"
   ]
  },
  {
   "cell_type": "markdown",
   "metadata": {},
   "source": [
    "Here we detected that some value are blank under 'name' column. To understand what that blank value is, we need to further look into this dataframe."
   ]
  },
  {
   "cell_type": "code",
   "execution_count": 88,
   "metadata": {
    "scrolled": false
   },
   "outputs": [
    {
     "name": "stdout",
     "output_type": "stream",
     "text": [
      "        code                                          name\n",
      "count   1499                                          1499\n",
      "unique    11                                            12\n",
      "top       11  Environment and natural resources management\n",
      "freq     250                                           223\n",
      "0\n",
      "0\n"
     ]
    },
    {
     "data": {
      "text/plain": [
       "array(['Human development', '', 'Economic management',\n",
       "       'Social protection and risk management', 'Trade and integration',\n",
       "       'Public sector governance',\n",
       "       'Environment and natural resources management',\n",
       "       'Social dev/gender/inclusion',\n",
       "       'Financial and private sector development', 'Rural development',\n",
       "       'Urban development', 'Rule of law'], dtype=object)"
      ]
     },
     "execution_count": 88,
     "metadata": {},
     "output_type": "execute_result"
    }
   ],
   "source": [
    "# generates descriptive statistics\n",
    "print(wb_theme.describe())\n",
    "\n",
    "# missing value detection\n",
    "print(wb_theme.code.isnull().sum())\n",
    "print(wb_theme.name.isnull().sum())\n",
    "\n",
    "# unique values in 'name' column\n",
    "wb_theme.name.unique()"
   ]
  },
  {
   "cell_type": "markdown",
   "metadata": {},
   "source": [
    "The blank value under 'name' column seems missing value. Following this, a dataframe with the missing names filled is created."
   ]
  },
  {
   "cell_type": "code",
   "execution_count": 117,
   "metadata": {
    "collapsed": true
   },
   "outputs": [],
   "source": [
    "# create a dictionary that includes all code-name information\n",
    "code_name_dict = dict({'1':'Economic management',\n",
    "              '2':'Public sector governance',\n",
    "              '3':'Rule of law',\n",
    "              '4':'Financial and private sector development',\n",
    "              '5':'Trade and integration',\n",
    "              '6':'Social protection and risk management',\n",
    "              '7':'Social dev/gender/inclusion',\n",
    "              '8':'Human development',\n",
    "              '9':'Urban development',\n",
    "              '10':'Rural development',\n",
    "              '11': 'Environment and natural resources management'})"
   ]
  },
  {
   "cell_type": "code",
   "execution_count": 125,
   "metadata": {
    "collapsed": true
   },
   "outputs": [],
   "source": [
    "# turn above dictionary to a dataframe\n",
    "code_name = pd.DataFrame(list(code_name_dict.items()), columns=['code', 'name'])"
   ]
  },
  {
   "cell_type": "code",
   "execution_count": 132,
   "metadata": {
    "collapsed": true
   },
   "outputs": [],
   "source": [
    "# merge two dataframes to fill missing value\n",
    "wb_theme_filled = wb_theme.merge(code_name, on = 'code', how = 'left').drop('name_x', axis = 1)\n",
    "wb_theme_filled.columns = ['code', 'name']"
   ]
  },
  {
   "cell_type": "markdown",
   "metadata": {},
   "source": [
    "Now we have a dataframe with missing value filled, the last step will lead us to the top 10 major project themes"
   ]
  },
  {
   "cell_type": "code",
   "execution_count": 138,
   "metadata": {},
   "outputs": [
    {
     "data": {
      "text/plain": [
       "Environment and natural resources management    250\n",
       "Rural development                               216\n",
       "Human development                               210\n",
       "Public sector governance                        199\n",
       "Social protection and risk management           168\n",
       "Financial and private sector development        146\n",
       "Social dev/gender/inclusion                     130\n",
       "Trade and integration                            77\n",
       "Urban development                                50\n",
       "Economic management                              38\n",
       "Name: name, dtype: int64"
      ]
     },
     "execution_count": 138,
     "metadata": {},
     "output_type": "execute_result"
    }
   ],
   "source": [
    "# find the top 10 major project themes\n",
    "pd.value_counts(wb_theme_filled.name, sort = True).head(10)"
   ]
  },
  {
   "cell_type": "markdown",
   "metadata": {},
   "source": [
    "The top 10 major projects are: Environment and natural resources management, Rural development, Human development, Public sector governance, Social protection and risk management, Financial and private sector development, Social dev/gender/inclusion, Trade and integration, Urban development, Economic management "
   ]
  }
 ],
 "metadata": {
  "kernelspec": {
   "display_name": "Python 3",
   "language": "python",
   "name": "python3"
  },
  "language_info": {
   "codemirror_mode": {
    "name": "ipython",
    "version": 3
   },
   "file_extension": ".py",
   "mimetype": "text/x-python",
   "name": "python",
   "nbconvert_exporter": "python",
   "pygments_lexer": "ipython3",
   "version": "3.6.2"
  }
 },
 "nbformat": 4,
 "nbformat_minor": 1
}
